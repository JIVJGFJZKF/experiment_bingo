{
 "cells": [
  {
   "cell_type": "code",
   "execution_count": 1,
   "metadata": {},
   "outputs": [],
   "source": [
    "import numpy as np\n",
    "import pandas as pd\n",
    "import random\n",
    "import bingo"
   ]
  },
  {
   "cell_type": "code",
   "execution_count": 2,
   "metadata": {},
   "outputs": [],
   "source": [
    "%matplotlib inline"
   ]
  },
  {
   "cell_type": "code",
   "execution_count": null,
   "metadata": {},
   "outputs": [],
   "source": []
  },
  {
   "cell_type": "markdown",
   "metadata": {},
   "source": [
    "# Simulate One Game"
   ]
  },
  {
   "cell_type": "code",
   "execution_count": 3,
   "metadata": {},
   "outputs": [],
   "source": [
    "random.seed(6521)"
   ]
  },
  {
   "cell_type": "code",
   "execution_count": 4,
   "metadata": {},
   "outputs": [
    {
     "name": "stdout",
     "output_type": "stream",
     "text": [
      "Starting Card:\n",
      "B\t8\t3\t12\t9\t11\n",
      "I\t17\t21\t20\t29\t22\n",
      "N\t38\t32\tX\t42\t40\n",
      "G\t54\t58\t50\t46\t55\n",
      "O\t61\t68\t74\t69\t70\n",
      "\n",
      "WON After 39 Draws\n",
      "\n",
      "Numbers Drawn (in order):  61, 35, 56, 66, 75, 40, 24, 2, 4, 6, 52, 70, 23, 16, 9, 45, 69, 68, 8, 63, 51, 26, 55, 29, 73, 46, 60, 58, 62, 54, 43, 38, 13, 67, 34, 72, 36, 44, 50, 11, 71, 19, 42, 27, 22, 49, 33, 53, 47, 18, 39, 12, 15, 7, 3, 21, 10, 65, 41, 59, 20, 64, 28, 57, 37, 14, 5, 1, 74, 48, 17, 31, 25, 32, 30\n",
      "\n",
      "Completed Card:\n",
      "B\tX\t3\t12\tX\t11\n",
      "I\t17\t21\t20\tX\t22\n",
      "N\tX\t32\tX\t42\tX\n",
      "G\tX\tX\tX\tX\tX\n",
      "O\tX\tX\t74\tX\tX\n"
     ]
    }
   ],
   "source": [
    "obj_card = bingo.bingo_card()\n",
    "obj_draws = bingo.bingo_number_draw()\n",
    "print('Starting Card:\\n',obj_card,'\\n',sep='')\n",
    "obj_card.markup_card_vector_draws(vec_numbers_drawn=obj_draws.get_all_values_drawn(),is_print=True)\n",
    "print('\\nNumbers Drawn (in order): ',', '.join(str(x) for x in obj_draws.get_all_values_drawn()))\n",
    "print('\\nCompleted Card:\\n',obj_card,sep='')"
   ]
  },
  {
   "cell_type": "code",
   "execution_count": null,
   "metadata": {},
   "outputs": [],
   "source": []
  },
  {
   "cell_type": "code",
   "execution_count": null,
   "metadata": {},
   "outputs": [],
   "source": []
  },
  {
   "cell_type": "markdown",
   "metadata": {},
   "source": [
    "# Simulate Manual Play\n",
    "This approach would be used when you are playing a game and a real person is drawing number you want to check against your computer derived card, or cards."
   ]
  },
  {
   "cell_type": "code",
   "execution_count": 5,
   "metadata": {},
   "outputs": [
    {
     "name": "stdout",
     "output_type": "stream",
     "text": [
      "Starting Card:\n",
      "B\t1\t2\t13\t11\t9\n",
      "I\t21\t29\t23\t22\t18\n",
      "N\t41\t33\tX\t36\t35\n",
      "G\t47\t55\t53\t50\t52\n",
      "O\t69\t63\t70\t61\t73\n"
     ]
    }
   ],
   "source": [
    "obj_card.get_new_card()\n",
    "print('Starting Card:\\n',obj_card,sep='')"
   ]
  },
  {
   "cell_type": "code",
   "execution_count": 6,
   "metadata": {},
   "outputs": [
    {
     "name": "stdout",
     "output_type": "stream",
     "text": [
      "\n",
      "Numbers Drawn (in order):  57, 11, 56, 54, 36, 41, 1, 15, 17, 29, 48, 47, 6, 73, 14, 52, 3, 55, 5, 71, 62, 4, 61, 2, 31, 63, 75, 74, 66, 51, 28, 58, 38, 69, 25, 24, 43\n",
      "\n",
      "Completed Card:\n",
      "B\tX\tX\t13\tX\t9\n",
      "I\t21\tX\t23\t22\t18\n",
      "N\tX\t33\tX\tX\t35\n",
      "G\tX\tX\t53\t50\tX\n",
      "O\tX\tX\t70\tX\tX\n"
     ]
    }
   ],
   "source": [
    "vec_numbers = [57,11,56,54,36,41,1,15,17,29,48,47,6,73,14,\\\n",
    "               52,3,55,5,71,62,4,61,2,31,63,75,74,66,51,28,58,38,69,25,24,43]\n",
    "for i in vec_numbers:\n",
    "    obj_card.markup_card(i)\n",
    "    if(obj_card.check_win()):\n",
    "        print('WON')\n",
    "        break\n",
    "print('\\nNumbers Drawn (in order): ',', '.join(str(x) for x in vec_numbers))\n",
    "print('\\nCompleted Card:\\n',obj_card,sep='')"
   ]
  },
  {
   "cell_type": "code",
   "execution_count": 7,
   "metadata": {},
   "outputs": [],
   "source": [
    "obj_card.reset_card_to_start()"
   ]
  },
  {
   "cell_type": "code",
   "execution_count": 8,
   "metadata": {},
   "outputs": [
    {
     "data": {
      "text/plain": [
       "{'B': [1, 2, 13, 11, 9],\n",
       " 'I': [21, 29, 23, 22, 18],\n",
       " 'N': [41, 33, 'X', 36, 35],\n",
       " 'G': [47, 55, 53, 50, 52],\n",
       " 'O': [69, 63, 70, 61, 73]}"
      ]
     },
     "execution_count": 8,
     "metadata": {},
     "output_type": "execute_result"
    }
   ],
   "source": [
    "obj_card.original_card"
   ]
  },
  {
   "cell_type": "code",
   "execution_count": 9,
   "metadata": {},
   "outputs": [
    {
     "data": {
      "text/plain": [
       "{'B': [1, 2, 13, 11, 9],\n",
       " 'I': [21, 29, 23, 22, 18],\n",
       " 'N': [41, 33, 'X', 36, 35],\n",
       " 'G': [47, 55, 53, 50, 52],\n",
       " 'O': [69, 63, 70, 61, 73]}"
      ]
     },
     "execution_count": 9,
     "metadata": {},
     "output_type": "execute_result"
    }
   ],
   "source": [
    "obj_card.card"
   ]
  },
  {
   "cell_type": "code",
   "execution_count": null,
   "metadata": {},
   "outputs": [],
   "source": []
  },
  {
   "cell_type": "code",
   "execution_count": 10,
   "metadata": {},
   "outputs": [
    {
     "name": "stdout",
     "output_type": "stream",
     "text": [
      "\n",
      "Numbers Drawn (in order):  57, 11, 56, 54, 36, 41, 1, 15, 17, 29, 48, 47, 6, 73, 14, 52, 3, 55, 5, 71, 62, 4, 61, 2, 31, 63, 75, 74, 66, 51, 28, 58, 38, 69, 25, 24, 43\n",
      "\n",
      "Completed Card:\n",
      "B\tX\tX\t13\tX\t9\n",
      "I\t21\tX\t23\t22\t18\n",
      "N\tX\t33\tX\tX\t35\n",
      "G\tX\tX\t53\t50\tX\n",
      "O\tX\tX\t70\tX\tX\n"
     ]
    }
   ],
   "source": [
    "vec_numbers = [57,11,56,54,36,41,1,15,17,29,48,47,6,73,14,\\\n",
    "               52,3,55,5,71,62,4,61,2,31,63,75,74,66,51,28,58,38,69,25,24,43]\n",
    "for i in vec_numbers:\n",
    "    obj_card.markup_card(i)\n",
    "    if(obj_card.check_win()):\n",
    "        print('WON')\n",
    "        break\n",
    "print('\\nNumbers Drawn (in order): ',', '.join(str(x) for x in vec_numbers))\n",
    "print('\\nCompleted Card:\\n',obj_card,sep='')"
   ]
  },
  {
   "cell_type": "code",
   "execution_count": 11,
   "metadata": {},
   "outputs": [
    {
     "data": {
      "text/plain": [
       "{'B': [1, 2, 13, 11, 9],\n",
       " 'I': [21, 29, 23, 22, 18],\n",
       " 'N': [41, 33, 'X', 36, 35],\n",
       " 'G': [47, 55, 53, 50, 52],\n",
       " 'O': [69, 63, 70, 61, 73]}"
      ]
     },
     "execution_count": 11,
     "metadata": {},
     "output_type": "execute_result"
    }
   ],
   "source": [
    "obj_card.original_card"
   ]
  },
  {
   "cell_type": "code",
   "execution_count": 12,
   "metadata": {},
   "outputs": [
    {
     "data": {
      "text/plain": [
       "{'B': ['X', 'X', 13, 'X', 9],\n",
       " 'I': [21, 'X', 23, 22, 18],\n",
       " 'N': ['X', 33, 'X', 'X', 35],\n",
       " 'G': ['X', 'X', 53, 50, 'X'],\n",
       " 'O': ['X', 'X', 70, 'X', 'X']}"
      ]
     },
     "execution_count": 12,
     "metadata": {},
     "output_type": "execute_result"
    }
   ],
   "source": [
    "obj_card.card"
   ]
  },
  {
   "cell_type": "code",
   "execution_count": null,
   "metadata": {},
   "outputs": [],
   "source": []
  },
  {
   "cell_type": "code",
   "execution_count": null,
   "metadata": {},
   "outputs": [],
   "source": []
  },
  {
   "cell_type": "markdown",
   "metadata": {},
   "source": [
    "# Experiment\n",
    "# Experiment: Five Players\n",
    "The goal here is to evaluate how many draws it would take on a relatively large scale to have at least one winning card.  This experiment was setup to run 10,000 iterations of a BINGO game using 5 BINGO cards.  A random seed is set, so that this experiment can be repeated.\n",
    "\n",
    "Assumptions:\n",
    "- Five random BINGO cards are being played, each card is 5x5 and complies with the standard BINGO card setup.\n",
    "- The cards are only reset, they are never regenerated as new.  As such, the numbers are not \"new\" on the cards, but any markings on the cards are removed.\n",
    "- The draw lists start new each cycle; so after a card or cards are declared a winner, a random, new set of draws is obtained."
   ]
  },
  {
   "cell_type": "code",
   "execution_count": 13,
   "metadata": {},
   "outputs": [],
   "source": [
    "random.seed(91003)"
   ]
  },
  {
   "cell_type": "code",
   "execution_count": 14,
   "metadata": {},
   "outputs": [
    {
     "name": "stdout",
     "output_type": "stream",
     "text": [
      "CPU times: user 34.6 s, sys: 379 ms, total: 35 s\n",
      "Wall time: 38.8 s\n"
     ]
    }
   ],
   "source": [
    "%%time\n",
    "num_cards = 5\n",
    "tmp_vec_wins = []\n",
    "vec_number_draws_to_win = []\n",
    "vec_index_winning_card = []\n",
    "vec_iteration = []\n",
    "vec_obj_card = [bingo.bingo_card() for i in range(0,num_cards)]\n",
    "for i in range(0,10000):\n",
    "    tmp_vec_wins = []\n",
    "    obj_draws = bingo.bingo_number_draw()\n",
    "    vec_values_drawn = obj_draws.get_all_values_drawn()\n",
    "    for j,card_current in enumerate(vec_obj_card):\n",
    "        card_current.markup_card_vector_draws(vec_numbers_drawn=vec_values_drawn)\n",
    "        tmp_vec_wins.append(card_current.get_number_of_markups())\n",
    "        card_current.reset_card_to_start()\n",
    "    vec_index_winning_card.append(np.argmin(tmp_vec_wins))\n",
    "    vec_number_draws_to_win.append(min(tmp_vec_wins))\n",
    "    vec_iteration.append(i)"
   ]
  },
  {
   "cell_type": "code",
   "execution_count": 15,
   "metadata": {},
   "outputs": [
    {
     "name": "stdout",
     "output_type": "stream",
     "text": [
      "Minimum Number of Draws to Declare a Winner = 4\n",
      "Mean Number of Draws to Declare a Winner = 29.7216\n",
      "Maximum Number of Draws to Declare a Winner = 55\n"
     ]
    },
    {
     "data": {
      "text/plain": [
       "<matplotlib.axes._subplots.AxesSubplot at 0x7fa28d885eb8>"
      ]
     },
     "execution_count": 15,
     "metadata": {},
     "output_type": "execute_result"
    },
    {
     "data": {
      "image/png": "[encoded data removed]",
      "text/plain": [
       "<Figure size 1080x720 with 1 Axes>"
      ]
     },
     "metadata": {
      "needs_background": "light"
     },
     "output_type": "display_data"
    }
   ],
   "source": [
    "df_games = pd.DataFrame({'Iteration':vec_iteration,'Wining_Card':vec_index_winning_card,'Draws_to_Win':vec_number_draws_to_win})\n",
    "print('Minimum Number of Draws to Declare a Winner =',df_games['Draws_to_Win'].min())\n",
    "print('Mean Number of Draws to Declare a Winner =',df_games['Draws_to_Win'].mean())\n",
    "print('Maximum Number of Draws to Declare a Winner =',df_games['Draws_to_Win'].max())\n",
    "df_games['Draws_to_Win'].plot.kde(figsize=(15,10),xlim=(0,75),grid=True)"
   ]
  },
  {
   "cell_type": "code",
   "execution_count": 16,
   "metadata": {},
   "outputs": [
    {
     "data": {
      "text/plain": [
       "0    2175\n",
       "1    2055\n",
       "3    1969\n",
       "4    1916\n",
       "2    1885\n",
       "Name: Wining_Card, dtype: int64"
      ]
     },
     "execution_count": 16,
     "metadata": {},
     "output_type": "execute_result"
    }
   ],
   "source": [
    "df_games['Wining_Card'].value_counts()"
   ]
  },
  {
   "cell_type": "code",
   "execution_count": null,
   "metadata": {},
   "outputs": [],
   "source": []
  },
  {
   "cell_type": "code",
   "execution_count": null,
   "metadata": {},
   "outputs": [],
   "source": []
  },
  {
   "cell_type": "markdown",
   "metadata": {},
   "source": [
    "# Experiment: One Player"
   ]
  },
  {
   "cell_type": "code",
   "execution_count": 17,
   "metadata": {},
   "outputs": [],
   "source": [
    "random.seed(91003)"
   ]
  },
  {
   "cell_type": "code",
   "execution_count": 18,
   "metadata": {},
   "outputs": [
    {
     "name": "stdout",
     "output_type": "stream",
     "text": [
      "CPU times: user 8.39 s, sys: 113 ms, total: 8.5 s\n",
      "Wall time: 9.15 s\n"
     ]
    }
   ],
   "source": [
    "%%time\n",
    "num_cards = 1\n",
    "tmp_vec_wins = []\n",
    "vec_number_draws_to_win = []\n",
    "vec_index_winning_card = []\n",
    "vec_iteration = []\n",
    "vec_obj_card = [bingo.bingo_card() for i in range(0,num_cards)]\n",
    "for i in range(0,10000):\n",
    "    tmp_vec_wins = []\n",
    "    obj_draws = bingo.bingo_number_draw()\n",
    "    vec_values_drawn = obj_draws.get_all_values_drawn()\n",
    "    for j,card_current in enumerate(vec_obj_card):\n",
    "        card_current.markup_card_vector_draws(vec_numbers_drawn=vec_values_drawn)\n",
    "        tmp_vec_wins.append(card_current.get_number_of_markups())\n",
    "        card_current.reset_card_to_start()\n",
    "    vec_index_winning_card.append(np.argmin(tmp_vec_wins))\n",
    "    vec_number_draws_to_win.append(min(tmp_vec_wins))\n",
    "    vec_iteration.append(i)"
   ]
  },
  {
   "cell_type": "code",
   "execution_count": 19,
   "metadata": {},
   "outputs": [
    {
     "name": "stdout",
     "output_type": "stream",
     "text": [
      "Minimum Number of Draws to Declare a Winner = 8\n",
      "Mean Number of Draws to Declare a Winner = 41.3591\n",
      "Maximum Number of Draws to Declare a Winner = 68\n"
     ]
    },
    {
     "data": {
      "text/plain": [
       "<matplotlib.axes._subplots.AxesSubplot at 0x7fa28a826588>"
      ]
     },
     "execution_count": 19,
     "metadata": {},
     "output_type": "execute_result"
    },
    {
     "data": {
      "image/png": "[encoded data removed]",
      "text/plain": [
       "<Figure size 1080x720 with 1 Axes>"
      ]
     },
     "metadata": {
      "needs_background": "light"
     },
     "output_type": "display_data"
    }
   ],
   "source": [
    "df_games = pd.DataFrame({'Iteration':vec_iteration,'Wining_Card':vec_index_winning_card,'Draws_to_Win':vec_number_draws_to_win})\n",
    "print('Minimum Number of Draws to Declare a Winner =',df_games['Draws_to_Win'].min())\n",
    "print('Mean Number of Draws to Declare a Winner =',df_games['Draws_to_Win'].mean())\n",
    "print('Maximum Number of Draws to Declare a Winner =',df_games['Draws_to_Win'].max())\n",
    "df_games['Draws_to_Win'].plot.kde(figsize=(15,10),xlim=(0,75),grid=True)"
   ]
  },
  {
   "cell_type": "code",
   "execution_count": 20,
   "metadata": {},
   "outputs": [
    {
     "data": {
      "text/plain": [
       "0    10000\n",
       "Name: Wining_Card, dtype: int64"
      ]
     },
     "execution_count": 20,
     "metadata": {},
     "output_type": "execute_result"
    }
   ],
   "source": [
    "df_games['Wining_Card'].value_counts()"
   ]
  },
  {
   "cell_type": "code",
   "execution_count": null,
   "metadata": {},
   "outputs": [],
   "source": []
  }
 ],
 "metadata": {
  "kernelspec": {
   "display_name": "Python 3",
   "language": "python",
   "name": "python3"
  },
  "language_info": {
   "codemirror_mode": {
    "name": "ipython",
    "version": 3
   },
   "file_extension": ".py",
   "mimetype": "text/x-python",
   "name": "python",
   "nbconvert_exporter": "python",
   "pygments_lexer": "ipython3",
   "version": "3.7.3"
  }
 },
 "nbformat": 4,
 "nbformat_minor": 4
}
